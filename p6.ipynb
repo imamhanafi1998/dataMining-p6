{
  "nbformat": 4,
  "nbformat_minor": 0,
  "metadata": {
    "colab": {
      "name": "p6.ipynb",
      "provenance": [],
      "collapsed_sections": []
    },
    "kernelspec": {
      "name": "python3",
      "display_name": "Python 3"
    }
  },
  "cells": [
    {
      "cell_type": "code",
      "metadata": {
        "id": "dosSjIltvRfx"
      },
      "source": [
        "import pandas as pd\n",
        "\n",
        "from sklearn import metrics\n",
        "from sklearn.model_selection import train_test_split\n",
        "\n",
        "from sklearn.tree import DecisionTreeClassifier\n",
        "from sklearn.naive_bayes import GaussianNB\n",
        "from sklearn.discriminant_analysis import LinearDiscriminantAnalysis as LDA"
      ],
      "execution_count": 14,
      "outputs": []
    },
    {
      "cell_type": "code",
      "metadata": {
        "id": "YR9DUb_Hi4L2",
        "outputId": "4edd0fb5-8b81-4514-e0e2-d118fcc5d6c6",
        "colab": {
          "base_uri": "https://localhost:8080/",
          "height": 221
        }
      },
      "source": [
        "data2 = pd.read_csv('/content/p5F.csv')\n",
        "del data2['Unnamed: 0']\n",
        "data2.isnull().sum()"
      ],
      "execution_count": 16,
      "outputs": [
        {
          "output_type": "execute_result",
          "data": {
            "text/plain": [
              "PassengerId      0\n",
              "Survived         0\n",
              "Pclass           0\n",
              "Sex              0\n",
              "SibSp            0\n",
              "Parch            0\n",
              "Fare             0\n",
              "Embarked         0\n",
              "Title            0\n",
              "PassengerType    0\n",
              "dtype: int64"
            ]
          },
          "metadata": {
            "tags": []
          },
          "execution_count": 16
        }
      ]
    },
    {
      "cell_type": "code",
      "metadata": {
        "id": "9Dzw1QDMSwcT"
      },
      "source": [
        "xdata = data2.drop('Survived', axis = 1)\n",
        "ydata = data2.Survived"
      ],
      "execution_count": 17,
      "outputs": []
    },
    {
      "cell_type": "code",
      "metadata": {
        "id": "K5QDBRhiS1nw"
      },
      "source": [
        "xtrain, xtest, ytrain, ytest, = train_test_split(xdata, ydata, test_size = 0.3, random_state = 1)"
      ],
      "execution_count": 18,
      "outputs": []
    },
    {
      "cell_type": "code",
      "metadata": {
        "id": "D6jxwwc2S9x8",
        "outputId": "49bf59fb-c307-44d1-c451-625ef478d1dd",
        "colab": {
          "base_uri": "https://localhost:8080/",
          "height": 72
        }
      },
      "source": [
        "# DecisionTreeClassifier\n",
        "clf = DecisionTreeClassifier()\n",
        "clf = clf.fit(xtrain, ytrain)\n",
        "ypred = clf.predict(xtest)\n",
        "print(\"Akurasi DCS Tree : \", metrics.accuracy_score(ytest, ypred)*100)\n",
        "\n",
        "# GaussianNaiveBeyes\n",
        "gnb = GaussianNB()\n",
        "gnb = gnb.fit(xtrain, ytrain)\n",
        "ypredgnb = gnb.predict(xtest)\n",
        "print(\"Akurasi Gaussian Naive Beyes : \", metrics.accuracy_score(ytest, ypredgnb)*100)\n",
        "\n",
        "# Linear Discriminant Analysis\n",
        "lda = LDA()\n",
        "lda = lda.fit(xtrain, ytrain)\n",
        "ypredlda = lda.predict(xtest)\n",
        "print(\"Akurasi Linear Discriminant Analysis : \", metrics.accuracy_score(ytest, ypredlda)*100)"
      ],
      "execution_count": 19,
      "outputs": [
        {
          "output_type": "stream",
          "text": [
            "Akurasi DCS Tree :  73.78277153558052\n",
            "Akurasi Gaussian Naive Beyes :  81.27340823970037\n",
            "Akurasi Linear Discriminant Analysis :  83.52059925093633\n"
          ],
          "name": "stdout"
        }
      ]
    },
    {
      "cell_type": "code",
      "metadata": {
        "id": "06nz7re0Xlaw"
      },
      "source": [
        "from sklearn.neighbors import KNeighborsClassifier"
      ],
      "execution_count": 20,
      "outputs": []
    },
    {
      "cell_type": "code",
      "metadata": {
        "id": "iOtXSfKUXv8J"
      },
      "source": [
        "KNN = KNeighborsClassifier().fit(xtrain, ytrain)\n",
        "KNN_pred = KNN.predict(xtest)"
      ],
      "execution_count": 21,
      "outputs": []
    },
    {
      "cell_type": "code",
      "metadata": {
        "id": "NLaSS5m4YV9v"
      },
      "source": [
        "from sklearn.metrics import classification_report, confusion_matrix"
      ],
      "execution_count": 22,
      "outputs": []
    },
    {
      "cell_type": "code",
      "metadata": {
        "id": "crt-9r7IYiwr",
        "outputId": "a44920d7-efb8-4676-a502-5f13cff48d08",
        "colab": {
          "base_uri": "https://localhost:8080/",
          "height": 54
        }
      },
      "source": [
        "print(confusion_matrix(ytest, KNN_pred))"
      ],
      "execution_count": 23,
      "outputs": [
        {
          "output_type": "stream",
          "text": [
            "[[134  36]\n",
            " [ 58  39]]\n"
          ],
          "name": "stdout"
        }
      ]
    },
    {
      "cell_type": "code",
      "metadata": {
        "id": "f9CfK7q6Y_BY",
        "outputId": "79795f79-db33-4725-eec7-8629d93a6261",
        "colab": {
          "base_uri": "https://localhost:8080/",
          "height": 169
        }
      },
      "source": [
        "pd.crosstab(ytest, KNN_pred, rownames = ['Actual'], colnames = ['Predicted'], margins = True)"
      ],
      "execution_count": 24,
      "outputs": [
        {
          "output_type": "execute_result",
          "data": {
            "text/html": [
              "<div>\n",
              "<style scoped>\n",
              "    .dataframe tbody tr th:only-of-type {\n",
              "        vertical-align: middle;\n",
              "    }\n",
              "\n",
              "    .dataframe tbody tr th {\n",
              "        vertical-align: top;\n",
              "    }\n",
              "\n",
              "    .dataframe thead th {\n",
              "        text-align: right;\n",
              "    }\n",
              "</style>\n",
              "<table border=\"1\" class=\"dataframe\">\n",
              "  <thead>\n",
              "    <tr style=\"text-align: right;\">\n",
              "      <th>Predicted</th>\n",
              "      <th>0</th>\n",
              "      <th>1</th>\n",
              "      <th>All</th>\n",
              "    </tr>\n",
              "    <tr>\n",
              "      <th>Actual</th>\n",
              "      <th></th>\n",
              "      <th></th>\n",
              "      <th></th>\n",
              "    </tr>\n",
              "  </thead>\n",
              "  <tbody>\n",
              "    <tr>\n",
              "      <th>0</th>\n",
              "      <td>134</td>\n",
              "      <td>36</td>\n",
              "      <td>170</td>\n",
              "    </tr>\n",
              "    <tr>\n",
              "      <th>1</th>\n",
              "      <td>58</td>\n",
              "      <td>39</td>\n",
              "      <td>97</td>\n",
              "    </tr>\n",
              "    <tr>\n",
              "      <th>All</th>\n",
              "      <td>192</td>\n",
              "      <td>75</td>\n",
              "      <td>267</td>\n",
              "    </tr>\n",
              "  </tbody>\n",
              "</table>\n",
              "</div>"
            ],
            "text/plain": [
              "Predicted    0   1  All\n",
              "Actual                 \n",
              "0          134  36  170\n",
              "1           58  39   97\n",
              "All        192  75  267"
            ]
          },
          "metadata": {
            "tags": []
          },
          "execution_count": 24
        }
      ]
    },
    {
      "cell_type": "code",
      "metadata": {
        "id": "JnUDEv_wZR-L",
        "outputId": "25ad90d0-427e-48c8-cdfa-8433a62fcee6",
        "colab": {
          "base_uri": "https://localhost:8080/",
          "height": 184
        }
      },
      "source": [
        "print(classification_report(ytest, KNN_pred))"
      ],
      "execution_count": 25,
      "outputs": [
        {
          "output_type": "stream",
          "text": [
            "              precision    recall  f1-score   support\n",
            "\n",
            "           0       0.70      0.79      0.74       170\n",
            "           1       0.52      0.40      0.45        97\n",
            "\n",
            "    accuracy                           0.65       267\n",
            "   macro avg       0.61      0.60      0.60       267\n",
            "weighted avg       0.63      0.65      0.64       267\n",
            "\n"
          ],
          "name": "stdout"
        }
      ]
    },
    {
      "cell_type": "code",
      "metadata": {
        "id": "zb0cFNCAZuWf"
      },
      "source": [
        "from sklearn.metrics import roc_auc_score, roc_curve\n",
        "import matplotlib.pyplot as plt\n",
        "plt.rc(\"font\", size = 14)"
      ],
      "execution_count": 26,
      "outputs": []
    },
    {
      "cell_type": "code",
      "metadata": {
        "id": "IDLBEeoeZ-jB",
        "outputId": "e2b6b482-993f-4d7c-90f9-3540faa83257",
        "colab": {
          "base_uri": "https://localhost:8080/",
          "height": 307
        }
      },
      "source": [
        "KNN_roc_auc = roc_auc_score(ytest, KNN.predict(xtest))\n",
        "knn_fpr, knn_tpr, knn_thresholds = roc_curve(ytest, KNN.predict_proba(xtest)[:, 1])\n",
        "plt.figure()\n",
        "plt.plot(knn_fpr, knn_tpr, label = 'KNN (AUC = %0.2f)' % KNN_roc_auc)\n",
        "plt.plot([0, 1], [0,1], 'r--')\n",
        "plt.xlim([0.0, 1.0])\n",
        "plt.ylim([0.0, 1.05])\n",
        "plt.xlabel('False Positive Rate')\n",
        "plt.ylabel('True Positive Rate')\n",
        "plt.title('Receiver Operating Characteristic')\n",
        "plt.legend(loc = \"lower right\")\n",
        "plt.show()"
      ],
      "execution_count": 27,
      "outputs": [
        {
          "output_type": "display_data",
          "data": {
            "image/png": "[encoded data removed]",
            "text/plain": [
              "<Figure size 432x288 with 1 Axes>"
            ]
          },
          "metadata": {
            "tags": [],
            "needs_background": "light"
          }
        }
      ]
    },
    {
      "cell_type": "markdown",
      "metadata": {
        "id": "bIB-tBMUld3c"
      },
      "source": [
        "**TUGAS MAHASISWA 1**"
      ]
    },
    {
      "cell_type": "code",
      "metadata": {
        "id": "ZXoQCzMslhVx",
        "outputId": "1ef952df-7421-4e13-b0c5-49ea88bb3444",
        "colab": {
          "base_uri": "https://localhost:8080/",
          "height": 493
        }
      },
      "source": [
        "print(\"GNB\")\n",
        "print(classification_report(ytest, ypredgnb))\n",
        "\n",
        "gnb_roc_auc = roc_auc_score(ytest, gnb.predict(xtest))\n",
        "gnb_fpr, gnb_tpr, gnb_thresholds = roc_curve(ytest, gnb.predict_proba(xtest)[:, 1])\n",
        "plt.figure()\n",
        "plt.plot(gnb_fpr, gnb_tpr, label = 'GNB (AUC = %0.2f)' % gnb_roc_auc)\n",
        "plt.plot([0, 1], [0,1], 'r--')\n",
        "plt.xlim([0.0, 1.0])\n",
        "plt.ylim([0.0, 1.05])\n",
        "plt.xlabel('False Positive Rate')\n",
        "plt.ylabel('True Positive Rate')\n",
        "plt.title('Receiver Operating Characteristic')\n",
        "plt.legend(loc = \"lower right\")\n",
        "plt.show()"
      ],
      "execution_count": 30,
      "outputs": [
        {
          "output_type": "stream",
          "text": [
            "GNB\n",
            "              precision    recall  f1-score   support\n",
            "\n",
            "           0       0.84      0.86      0.85       170\n",
            "           1       0.75      0.72      0.74        97\n",
            "\n",
            "    accuracy                           0.81       267\n",
            "   macro avg       0.80      0.79      0.80       267\n",
            "weighted avg       0.81      0.81      0.81       267\n",
            "\n"
          ],
          "name": "stdout"
        },
        {
          "output_type": "display_data",
          "data": {
            "image/png": "[encoded data removed]",
            "text/plain": [
              "<Figure size 432x288 with 1 Axes>"
            ]
          },
          "metadata": {
            "tags": [],
            "needs_background": "light"
          }
        }
      ]
    },
    {
      "cell_type": "code",
      "metadata": {
        "id": "bpIFpW73mCi4",
        "outputId": "58e2f4db-9633-4d51-808b-5942e8498950",
        "colab": {
          "base_uri": "https://localhost:8080/",
          "height": 493
        }
      },
      "source": [
        "print(\"LDA\")\n",
        "print(classification_report(ytest, ypredlda))\n",
        "\n",
        "lda_roc_auc = roc_auc_score(ytest, lda.predict(xtest))\n",
        "lda_fpr, lda_tpr, lda_thresholds = roc_curve(ytest, lda.predict_proba(xtest)[:, 1])\n",
        "plt.figure()\n",
        "plt.plot(lda_fpr, lda_tpr, label = 'LDA (AUC = %0.2f)' % lda_roc_auc)\n",
        "plt.plot([0, 1], [0,1], 'r--')\n",
        "plt.xlim([0.0, 1.0])\n",
        "plt.ylim([0.0, 1.05])\n",
        "plt.xlabel('False Positive Rate')\n",
        "plt.ylabel('True Positive Rate')\n",
        "plt.title('Receiver Operating Characteristic')\n",
        "plt.legend(loc = \"lower right\")\n",
        "plt.show()"
      ],
      "execution_count": 31,
      "outputs": [
        {
          "output_type": "stream",
          "text": [
            "LDA\n",
            "              precision    recall  f1-score   support\n",
            "\n",
            "           0       0.87      0.88      0.87       170\n",
            "           1       0.78      0.76      0.77        97\n",
            "\n",
            "    accuracy                           0.84       267\n",
            "   macro avg       0.82      0.82      0.82       267\n",
            "weighted avg       0.83      0.84      0.83       267\n",
            "\n"
          ],
          "name": "stdout"
        },
        {
          "output_type": "display_data",
          "data": {
            "image/png": "[encoded data removed]",
            "text/plain": [
              "<Figure size 432x288 with 1 Axes>"
            ]
          },
          "metadata": {
            "tags": [],
            "needs_background": "light"
          }
        }
      ]
    },
    {
      "cell_type": "markdown",
      "metadata": {
        "id": "A6Vzk0OLcD76"
      },
      "source": [
        "SECTION 2"
      ]
    },
    {
      "cell_type": "code",
      "metadata": {
        "id": "uKzF8HDgcFqA"
      },
      "source": [
        "from sklearn.model_selection import cross_val_score, cross_val_predict"
      ],
      "execution_count": 42,
      "outputs": []
    },
    {
      "cell_type": "code",
      "metadata": {
        "id": "mfOsquCKceXb"
      },
      "source": [
        "KNN = KNeighborsClassifier()"
      ],
      "execution_count": 33,
      "outputs": []
    },
    {
      "cell_type": "code",
      "metadata": {
        "id": "uCjENHCZchq1",
        "outputId": "fac54ce5-933d-4538-c578-86a3878aab7c",
        "colab": {
          "base_uri": "https://localhost:8080/",
          "height": 54
        }
      },
      "source": [
        "scores_accuracy = cross_val_score(KNN, xdata, ydata, cv=5, scoring='accuracy')\n",
        "print(scores_accuracy)\n",
        "print(\"Rata-rata nilai akurasi: %0.2f (+/- %0.2f)\" % (scores_accuracy.mean(), scores_accuracy.std()))"
      ],
      "execution_count": 34,
      "outputs": [
        {
          "output_type": "stream",
          "text": [
            "[0.62359551 0.4494382  0.46892655 0.49152542 0.66101695]\n",
            "Rata-rata nilai akurasi: 0.54 (+/- 0.09)\n"
          ],
          "name": "stdout"
        }
      ]
    },
    {
      "cell_type": "code",
      "metadata": {
        "id": "Rmu-owOPdTP6",
        "outputId": "47f97d18-c90e-4d61-e022-5016f3e8c9be",
        "colab": {
          "base_uri": "https://localhost:8080/",
          "height": 54
        }
      },
      "source": [
        "scores_precision = cross_val_score(KNN, xdata, ydata, cv=5, scoring='precision_macro')\n",
        "print(scores_precision)\n",
        "print(\"Rata-rata nilai precision macro: %0.2f (+/- %0.2f)\" % (scores_precision.mean(), scores_precision.std()))"
      ],
      "execution_count": 35,
      "outputs": [
        {
          "output_type": "stream",
          "text": [
            "[0.6447619  0.48644068 0.48041237 0.50400413 0.77335329]\n",
            "Rata-rata nilai precision macro: 0.58 (+/- 0.11)\n"
          ],
          "name": "stdout"
        }
      ]
    },
    {
      "cell_type": "code",
      "metadata": {
        "id": "7xQihyLPeAaV",
        "outputId": "5014b56e-6245-44e5-e415-b0df73e72a8e",
        "colab": {
          "base_uri": "https://localhost:8080/",
          "height": 54
        }
      },
      "source": [
        "scores_recall = cross_val_score(KNN, xdata, ydata, cv=5, scoring='recall_macro')\n",
        "print(scores_recall)\n",
        "print(\"Rata-rata nilai recall macro: %0.2f (+/- %0.2f)\" % (scores_recall.mean(), scores_recall.std()))"
      ],
      "execution_count": 36,
      "outputs": [
        {
          "output_type": "stream",
          "text": [
            "[0.51016043 0.48716578 0.47937585 0.50418241 0.56158931]\n",
            "Rata-rata nilai recall macro: 0.51 (+/- 0.03)\n"
          ],
          "name": "stdout"
        }
      ]
    },
    {
      "cell_type": "code",
      "metadata": {
        "id": "zZo2CC7reTkv",
        "outputId": "944c53ee-6909-4b46-e6ee-973dc311394f",
        "colab": {
          "base_uri": "https://localhost:8080/",
          "height": 54
        }
      },
      "source": [
        "scores_f1 = cross_val_score(KNN, xdata, ydata, cv=5, scoring='f1_macro')\n",
        "print(scores_f1)\n",
        "print(\"Rata-rata nilai f1 macro: %0.2f (+/- %0.2f)\" % (scores_f1.mean(), scores_f1.std()))"
      ],
      "execution_count": 37,
      "outputs": [
        {
          "output_type": "stream",
          "text": [
            "[0.41062515 0.44832385 0.46604621 0.48955396 0.50668896]\n",
            "Rata-rata nilai f1 macro: 0.46 (+/- 0.03)\n"
          ],
          "name": "stdout"
        }
      ]
    },
    {
      "cell_type": "markdown",
      "metadata": {
        "id": "HQiAg6ml2CiQ"
      },
      "source": [
        "**TUGAS MAHASISWA 2**"
      ]
    },
    {
      "cell_type": "code",
      "metadata": {
        "id": "7HvNuTgl2ERH",
        "outputId": "60d02173-231f-4196-b1a3-852b164efe8d",
        "colab": {
          "base_uri": "https://localhost:8080/",
          "height": 91
        }
      },
      "source": [
        "scores_accuracy_gnb = cross_val_score(gnb, xdata, ydata, cv=10, scoring='accuracy')\n",
        "# print(scores_accuracy_gnb)\n",
        "print(\"Rata-rata nilai akurasi: %0.2f (+/- %0.2f)\" % (scores_accuracy_gnb.mean(), scores_accuracy_gnb.std()))\n",
        "\n",
        "scores_precision_gnb = cross_val_score(gnb, xdata, ydata, cv=10, scoring='precision_macro')\n",
        "# print(scores_precision_gnb)\n",
        "print(\"Rata-rata nilai precision macro: %0.2f (+/- %0.2f)\" % (scores_precision_gnb.mean(), scores_precision_gnb.std()))\n",
        "\n",
        "scores_recall_gnb = cross_val_score(gnb, xdata, ydata, cv=10, scoring='recall_macro')\n",
        "# print(scores_recall_gnb)\n",
        "print(\"Rata-rata nilai recall macro: %0.2f (+/- %0.2f)\" % (scores_recall_gnb.mean(), scores_recall_gnb.std()))\n",
        "\n",
        "scores_f1_gnb = cross_val_score(gnb, xdata, ydata, cv=10, scoring='f1_macro')\n",
        "# print(scores_f1_gnb)\n",
        "print(\"Rata-rata nilai f1 macro: %0.2f (+/- %0.2f)\" % (scores_f1_gnb.mean(), scores_f1_gnb.std()))"
      ],
      "execution_count": 39,
      "outputs": [
        {
          "output_type": "stream",
          "text": [
            "Rata-rata nilai akurasi: 0.80 (+/- 0.02)\n",
            "Rata-rata nilai precision macro: 0.79 (+/- 0.03)\n",
            "Rata-rata nilai recall macro: 0.79 (+/- 0.03)\n",
            "Rata-rata nilai f1 macro: 0.79 (+/- 0.03)\n"
          ],
          "name": "stdout"
        }
      ]
    },
    {
      "cell_type": "code",
      "metadata": {
        "id": "9Lckc3_H3DIR",
        "outputId": "4221d214-c02a-4877-8646-4c0eaf47e383",
        "colab": {
          "base_uri": "https://localhost:8080/",
          "height": 91
        }
      },
      "source": [
        "scores_accuracy_lda = cross_val_score(lda, xdata, ydata, cv=10, scoring='accuracy')\n",
        "print(\"Rata-rata nilai akurasi: %0.2f (+/- %0.2f)\" % (scores_accuracy_lda.mean(), scores_accuracy_lda.std()))\n",
        "\n",
        "scores_precision_lda = cross_val_score(lda, xdata, ydata, cv=10, scoring='precision_macro')\n",
        "print(\"Rata-rata nilai precision macro: %0.2f (+/- %0.2f)\" % (scores_precision_lda.mean(), scores_precision_lda.std()))\n",
        "\n",
        "scores_recall_lda = cross_val_score(lda, xdata, ydata, cv=10, scoring='recall_macro')\n",
        "print(\"Rata-rata nilai recall macro: %0.2f (+/- %0.2f)\" % (scores_recall_lda.mean(), scores_recall_lda.std()))\n",
        "\n",
        "scores_f1_lda = cross_val_score(lda, xdata, ydata, cv=10, scoring='f1_macro')\n",
        "print(\"Rata-rata nilai f1 macro: %0.2f (+/- %0.2f)\" % (scores_f1_lda.mean(), scores_f1_lda.std()))"
      ],
      "execution_count": 40,
      "outputs": [
        {
          "output_type": "stream",
          "text": [
            "Rata-rata nilai akurasi: 0.80 (+/- 0.03)\n",
            "Rata-rata nilai precision macro: 0.79 (+/- 0.03)\n",
            "Rata-rata nilai recall macro: 0.78 (+/- 0.03)\n",
            "Rata-rata nilai f1 macro: 0.79 (+/- 0.03)\n"
          ],
          "name": "stdout"
        }
      ]
    }
  ]
}